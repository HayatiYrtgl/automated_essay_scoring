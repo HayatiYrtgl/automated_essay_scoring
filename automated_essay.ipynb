{
 "cells": [
  {
   "cell_type": "code",
   "execution_count": 1,
   "id": "7350ff8e-a2b5-4f33-a0ef-fa3cd39bbd4b",
   "metadata": {},
   "outputs": [
    {
     "name": "stderr",
     "output_type": "stream",
     "text": [
      "2024-07-08 00:19:49.418701: E external/local_xla/xla/stream_executor/cuda/cuda_dnn.cc:9261] Unable to register cuDNN factory: Attempting to register factory for plugin cuDNN when one has already been registered\n",
      "2024-07-08 00:19:49.418740: E external/local_xla/xla/stream_executor/cuda/cuda_fft.cc:607] Unable to register cuFFT factory: Attempting to register factory for plugin cuFFT when one has already been registered\n",
      "2024-07-08 00:19:49.419862: E external/local_xla/xla/stream_executor/cuda/cuda_blas.cc:1515] Unable to register cuBLAS factory: Attempting to register factory for plugin cuBLAS when one has already been registered\n",
      "2024-07-08 00:19:49.425542: I tensorflow/core/platform/cpu_feature_guard.cc:182] This TensorFlow binary is optimized to use available CPU instructions in performance-critical operations.\n",
      "To enable the following instructions: AVX2 FMA, in other operations, rebuild TensorFlow with the appropriate compiler flags.\n",
      "2024-07-08 00:19:50.089814: W tensorflow/compiler/tf2tensorrt/utils/py_utils.cc:38] TF-TRT Warning: Could not find TensorRT\n"
     ]
    }
   ],
   "source": [
    "import pandas as pd\n",
    "import numpy as np\n",
    "from sklearn.preprocessing import MinMaxScaler\n",
    "from sklearn.linear_model import LogisticRegression\n",
    "from sklearn.ensemble import RandomForestClassifier\n",
    "from keras.utils import to_categorical\n",
    "from keras.layers import *\n",
    "from keras.models import Model, Sequential"
   ]
  },
  {
   "cell_type": "code",
   "execution_count": 2,
   "id": "6f44fe1a-d33a-4451-8d46-5b3267a0ab9a",
   "metadata": {},
   "outputs": [],
   "source": [
    "dataset = pd.read_csv(\"../dataset/learning-agency-lab-automated-essay-scoring-2/train.csv\")"
   ]
  },
  {
   "cell_type": "markdown",
   "id": "27ad1ba0-c4fe-4290-bade-ee8c7fe178ad",
   "metadata": {},
   "source": [
    "## Base Info"
   ]
  },
  {
   "cell_type": "code",
   "execution_count": 3,
   "id": "a21c147c-f6b7-4a62-8bd9-2b048a6554d5",
   "metadata": {},
   "outputs": [
    {
     "data": {
      "text/html": [
       "<div>\n",
       "<style scoped>\n",
       "    .dataframe tbody tr th:only-of-type {\n",
       "        vertical-align: middle;\n",
       "    }\n",
       "\n",
       "    .dataframe tbody tr th {\n",
       "        vertical-align: top;\n",
       "    }\n",
       "\n",
       "    .dataframe thead th {\n",
       "        text-align: right;\n",
       "    }\n",
       "</style>\n",
       "<table border=\"1\" class=\"dataframe\">\n",
       "  <thead>\n",
       "    <tr style=\"text-align: right;\">\n",
       "      <th></th>\n",
       "      <th>essay_id</th>\n",
       "      <th>full_text</th>\n",
       "      <th>score</th>\n",
       "    </tr>\n",
       "  </thead>\n",
       "  <tbody>\n",
       "    <tr>\n",
       "      <th>0</th>\n",
       "      <td>000d118</td>\n",
       "      <td>Many people have car where they live. The thin...</td>\n",
       "      <td>3</td>\n",
       "    </tr>\n",
       "    <tr>\n",
       "      <th>1</th>\n",
       "      <td>000fe60</td>\n",
       "      <td>I am a scientist at NASA that is discussing th...</td>\n",
       "      <td>3</td>\n",
       "    </tr>\n",
       "    <tr>\n",
       "      <th>2</th>\n",
       "      <td>001ab80</td>\n",
       "      <td>People always wish they had the same technolog...</td>\n",
       "      <td>4</td>\n",
       "    </tr>\n",
       "    <tr>\n",
       "      <th>3</th>\n",
       "      <td>001bdc0</td>\n",
       "      <td>We all heard about Venus, the planet without a...</td>\n",
       "      <td>4</td>\n",
       "    </tr>\n",
       "    <tr>\n",
       "      <th>4</th>\n",
       "      <td>002ba53</td>\n",
       "      <td>Dear, State Senator\\n\\nThis is a letter to arg...</td>\n",
       "      <td>3</td>\n",
       "    </tr>\n",
       "  </tbody>\n",
       "</table>\n",
       "</div>"
      ],
      "text/plain": [
       "  essay_id                                          full_text  score\n",
       "0  000d118  Many people have car where they live. The thin...      3\n",
       "1  000fe60  I am a scientist at NASA that is discussing th...      3\n",
       "2  001ab80  People always wish they had the same technolog...      4\n",
       "3  001bdc0  We all heard about Venus, the planet without a...      4\n",
       "4  002ba53  Dear, State Senator\\n\\nThis is a letter to arg...      3"
      ]
     },
     "execution_count": 3,
     "metadata": {},
     "output_type": "execute_result"
    }
   ],
   "source": [
    "dataset.head()"
   ]
  },
  {
   "cell_type": "code",
   "execution_count": 4,
   "id": "bd6cf18e-6805-4170-b336-68dfec1225c9",
   "metadata": {},
   "outputs": [
    {
     "data": {
      "text/plain": [
       "essay_id     object\n",
       "full_text    object\n",
       "score         int64\n",
       "dtype: object"
      ]
     },
     "execution_count": 4,
     "metadata": {},
     "output_type": "execute_result"
    }
   ],
   "source": [
    "dataset.dtypes"
   ]
  },
  {
   "cell_type": "code",
   "execution_count": 5,
   "id": "822b5f01-8117-4bd9-b417-adb315034103",
   "metadata": {},
   "outputs": [
    {
     "data": {
      "text/plain": [
       "essay_id     0\n",
       "full_text    0\n",
       "score        0\n",
       "dtype: int64"
      ]
     },
     "execution_count": 5,
     "metadata": {},
     "output_type": "execute_result"
    }
   ],
   "source": [
    "dataset.isna().sum()"
   ]
  },
  {
   "cell_type": "code",
   "execution_count": 6,
   "id": "8a1533f9-136c-49fc-a192-abc435104f42",
   "metadata": {},
   "outputs": [],
   "source": [
    "from keras.preprocessing.text import Tokenizer\n",
    "import matplotlib.pyplot as plt\n",
    "import seaborn as sns"
   ]
  },
  {
   "cell_type": "code",
   "execution_count": 7,
   "id": "ef437c7f-8cb2-496e-a479-9f8182ed701d",
   "metadata": {},
   "outputs": [],
   "source": [
    "dataset.full_text = dataset.full_text.replace(\"[^a-zA-Z0-9 ]\", \"\",regex=True)"
   ]
  },
  {
   "cell_type": "code",
   "execution_count": 8,
   "id": "0ceb4e59-5595-4874-85cd-736c223af143",
   "metadata": {},
   "outputs": [
    {
     "data": {
      "text/plain": [
       "0        Many people have car where they live The thing...\n",
       "1        I am a scientist at NASA that is discussing th...\n",
       "2        People always wish they had the same technolog...\n",
       "3        We all heard about Venus the planet without al...\n",
       "4        Dear State SenatorThis is a letter to argue in...\n",
       "                               ...                        \n",
       "17302    the story  The Challenge of Exploing Venus  is...\n",
       "17303    Technology has changed a lot of ways that we l...\n",
       "17304    If you dont like sitting around all day than i...\n",
       "17305    In The Challenge of Exporing Venus the author ...\n",
       "17306    Venus is worthy place to study but dangerous T...\n",
       "Name: full_text, Length: 17307, dtype: object"
      ]
     },
     "execution_count": 8,
     "metadata": {},
     "output_type": "execute_result"
    }
   ],
   "source": [
    "dataset.full_text"
   ]
  },
  {
   "cell_type": "code",
   "execution_count": 9,
   "id": "02899594-e615-4d03-9109-483aea089a7a",
   "metadata": {},
   "outputs": [],
   "source": [
    "tokenizer = Tokenizer(num_words=10000)"
   ]
  },
  {
   "cell_type": "code",
   "execution_count": 10,
   "id": "19983629-2513-4d84-880e-08989de30680",
   "metadata": {},
   "outputs": [],
   "source": [
    "def apply_func(x):\n",
    "    splitted = x.split()\n",
    "    return len(splitted)"
   ]
  },
  {
   "cell_type": "code",
   "execution_count": 11,
   "id": "0e1958df-e5f0-4e32-bef5-a7ca6f40d5a0",
   "metadata": {},
   "outputs": [],
   "source": [
    "# create a column words counts\n",
    "dataset[\"word_num\"] = dataset.full_text.apply(apply_func)"
   ]
  },
  {
   "cell_type": "markdown",
   "id": "74ad370f-5e53-4928-9726-3133ca769793",
   "metadata": {},
   "source": [
    "## EDA"
   ]
  },
  {
   "cell_type": "code",
   "execution_count": 12,
   "id": "dd9d0f4b-27a2-44d8-880d-67aa67128350",
   "metadata": {},
   "outputs": [
    {
     "data": {
      "text/html": [
       "<div>\n",
       "<style scoped>\n",
       "    .dataframe tbody tr th:only-of-type {\n",
       "        vertical-align: middle;\n",
       "    }\n",
       "\n",
       "    .dataframe tbody tr th {\n",
       "        vertical-align: top;\n",
       "    }\n",
       "\n",
       "    .dataframe thead th {\n",
       "        text-align: right;\n",
       "    }\n",
       "</style>\n",
       "<table border=\"1\" class=\"dataframe\">\n",
       "  <thead>\n",
       "    <tr style=\"text-align: right;\">\n",
       "      <th></th>\n",
       "      <th>score</th>\n",
       "      <th>word_num</th>\n",
       "    </tr>\n",
       "  </thead>\n",
       "  <tbody>\n",
       "    <tr>\n",
       "      <th>count</th>\n",
       "      <td>17307.000000</td>\n",
       "      <td>17307.000000</td>\n",
       "    </tr>\n",
       "    <tr>\n",
       "      <th>mean</th>\n",
       "      <td>2.948402</td>\n",
       "      <td>363.600335</td>\n",
       "    </tr>\n",
       "    <tr>\n",
       "      <th>std</th>\n",
       "      <td>1.044899</td>\n",
       "      <td>149.256544</td>\n",
       "    </tr>\n",
       "    <tr>\n",
       "      <th>min</th>\n",
       "      <td>1.000000</td>\n",
       "      <td>142.000000</td>\n",
       "    </tr>\n",
       "    <tr>\n",
       "      <th>25%</th>\n",
       "      <td>2.000000</td>\n",
       "      <td>250.000000</td>\n",
       "    </tr>\n",
       "    <tr>\n",
       "      <th>50%</th>\n",
       "      <td>3.000000</td>\n",
       "      <td>340.000000</td>\n",
       "    </tr>\n",
       "    <tr>\n",
       "      <th>75%</th>\n",
       "      <td>4.000000</td>\n",
       "      <td>446.000000</td>\n",
       "    </tr>\n",
       "    <tr>\n",
       "      <th>max</th>\n",
       "      <td>6.000000</td>\n",
       "      <td>1656.000000</td>\n",
       "    </tr>\n",
       "  </tbody>\n",
       "</table>\n",
       "</div>"
      ],
      "text/plain": [
       "              score      word_num\n",
       "count  17307.000000  17307.000000\n",
       "mean       2.948402    363.600335\n",
       "std        1.044899    149.256544\n",
       "min        1.000000    142.000000\n",
       "25%        2.000000    250.000000\n",
       "50%        3.000000    340.000000\n",
       "75%        4.000000    446.000000\n",
       "max        6.000000   1656.000000"
      ]
     },
     "execution_count": 12,
     "metadata": {},
     "output_type": "execute_result"
    }
   ],
   "source": [
    "dataset.describe()"
   ]
  },
  {
   "cell_type": "code",
   "execution_count": 13,
   "id": "79fac728-8c7a-466f-846c-ad6922c97591",
   "metadata": {},
   "outputs": [
    {
     "data": {
      "text/html": [
       "<div>\n",
       "<style scoped>\n",
       "    .dataframe tbody tr th:only-of-type {\n",
       "        vertical-align: middle;\n",
       "    }\n",
       "\n",
       "    .dataframe tbody tr th {\n",
       "        vertical-align: top;\n",
       "    }\n",
       "\n",
       "    .dataframe thead th {\n",
       "        text-align: right;\n",
       "    }\n",
       "</style>\n",
       "<table border=\"1\" class=\"dataframe\">\n",
       "  <thead>\n",
       "    <tr style=\"text-align: right;\">\n",
       "      <th></th>\n",
       "      <th>essay_id</th>\n",
       "      <th>full_text</th>\n",
       "      <th>score</th>\n",
       "      <th>word_num</th>\n",
       "    </tr>\n",
       "  </thead>\n",
       "  <tbody>\n",
       "    <tr>\n",
       "      <th>0</th>\n",
       "      <td>000d118</td>\n",
       "      <td>Many people have car where they live The thing...</td>\n",
       "      <td>3</td>\n",
       "      <td>493</td>\n",
       "    </tr>\n",
       "    <tr>\n",
       "      <th>1</th>\n",
       "      <td>000fe60</td>\n",
       "      <td>I am a scientist at NASA that is discussing th...</td>\n",
       "      <td>3</td>\n",
       "      <td>328</td>\n",
       "    </tr>\n",
       "    <tr>\n",
       "      <th>2</th>\n",
       "      <td>001ab80</td>\n",
       "      <td>People always wish they had the same technolog...</td>\n",
       "      <td>4</td>\n",
       "      <td>547</td>\n",
       "    </tr>\n",
       "    <tr>\n",
       "      <th>3</th>\n",
       "      <td>001bdc0</td>\n",
       "      <td>We all heard about Venus the planet without al...</td>\n",
       "      <td>4</td>\n",
       "      <td>445</td>\n",
       "    </tr>\n",
       "    <tr>\n",
       "      <th>4</th>\n",
       "      <td>002ba53</td>\n",
       "      <td>Dear State SenatorThis is a letter to argue in...</td>\n",
       "      <td>3</td>\n",
       "      <td>368</td>\n",
       "    </tr>\n",
       "    <tr>\n",
       "      <th>...</th>\n",
       "      <td>...</td>\n",
       "      <td>...</td>\n",
       "      <td>...</td>\n",
       "      <td>...</td>\n",
       "    </tr>\n",
       "    <tr>\n",
       "      <th>17302</th>\n",
       "      <td>ffd378d</td>\n",
       "      <td>the story  The Challenge of Exploing Venus  is...</td>\n",
       "      <td>2</td>\n",
       "      <td>153</td>\n",
       "    </tr>\n",
       "    <tr>\n",
       "      <th>17303</th>\n",
       "      <td>ffddf1f</td>\n",
       "      <td>Technology has changed a lot of ways that we l...</td>\n",
       "      <td>4</td>\n",
       "      <td>574</td>\n",
       "    </tr>\n",
       "    <tr>\n",
       "      <th>17304</th>\n",
       "      <td>fff016d</td>\n",
       "      <td>If you dont like sitting around all day than i...</td>\n",
       "      <td>2</td>\n",
       "      <td>213</td>\n",
       "    </tr>\n",
       "    <tr>\n",
       "      <th>17305</th>\n",
       "      <td>fffb49b</td>\n",
       "      <td>In The Challenge of Exporing Venus the author ...</td>\n",
       "      <td>1</td>\n",
       "      <td>230</td>\n",
       "    </tr>\n",
       "    <tr>\n",
       "      <th>17306</th>\n",
       "      <td>fffed3e</td>\n",
       "      <td>Venus is worthy place to study but dangerous T...</td>\n",
       "      <td>2</td>\n",
       "      <td>152</td>\n",
       "    </tr>\n",
       "  </tbody>\n",
       "</table>\n",
       "<p>17307 rows × 4 columns</p>\n",
       "</div>"
      ],
      "text/plain": [
       "      essay_id                                          full_text  score  \\\n",
       "0      000d118  Many people have car where they live The thing...      3   \n",
       "1      000fe60  I am a scientist at NASA that is discussing th...      3   \n",
       "2      001ab80  People always wish they had the same technolog...      4   \n",
       "3      001bdc0  We all heard about Venus the planet without al...      4   \n",
       "4      002ba53  Dear State SenatorThis is a letter to argue in...      3   \n",
       "...        ...                                                ...    ...   \n",
       "17302  ffd378d  the story  The Challenge of Exploing Venus  is...      2   \n",
       "17303  ffddf1f  Technology has changed a lot of ways that we l...      4   \n",
       "17304  fff016d  If you dont like sitting around all day than i...      2   \n",
       "17305  fffb49b  In The Challenge of Exporing Venus the author ...      1   \n",
       "17306  fffed3e  Venus is worthy place to study but dangerous T...      2   \n",
       "\n",
       "       word_num  \n",
       "0           493  \n",
       "1           328  \n",
       "2           547  \n",
       "3           445  \n",
       "4           368  \n",
       "...         ...  \n",
       "17302       153  \n",
       "17303       574  \n",
       "17304       213  \n",
       "17305       230  \n",
       "17306       152  \n",
       "\n",
       "[17307 rows x 4 columns]"
      ]
     },
     "execution_count": 13,
     "metadata": {},
     "output_type": "execute_result"
    }
   ],
   "source": [
    "dataset"
   ]
  },
  {
   "cell_type": "code",
   "execution_count": 14,
   "id": "084055f8-aedb-46b2-9e8d-eb92c2db8fa8",
   "metadata": {},
   "outputs": [
    {
     "data": {
      "text/plain": [
       "<Axes: xlabel='score', ylabel='count'>"
      ]
     },
     "execution_count": 14,
     "metadata": {},
     "output_type": "execute_result"
    },
    {
     "data": {
      "image/png": "[encoded data removed]",
      "text/plain": [
       "<Figure size 800x400 with 1 Axes>"
      ]
     },
     "metadata": {},
     "output_type": "display_data"
    }
   ],
   "source": [
    "# countplot\n",
    "plt.figure(figsize=(8,4))\n",
    "sns.countplot(data=dataset, x=\"score\")"
   ]
  },
  {
   "cell_type": "code",
   "execution_count": 15,
   "id": "a9f46d63-6852-4b63-b026-44491299c05f",
   "metadata": {},
   "outputs": [
    {
     "data": {
      "text/plain": [
       "<Axes: xlabel='score', ylabel='word_num'>"
      ]
     },
     "execution_count": 15,
     "metadata": {},
     "output_type": "execute_result"
    },
    {
     "data": {
      "image/png": "[encoded data removed]",
      "text/plain": [
       "<Figure size 640x480 with 1 Axes>"
      ]
     },
     "metadata": {},
     "output_type": "display_data"
    }
   ],
   "source": [
    "sns.boxenplot(data=dataset, x=\"score\", y=\"word_num\")"
   ]
  },
  {
   "cell_type": "code",
   "execution_count": 16,
   "id": "4353467e-ada4-4a8f-a680-ad8b52beda78",
   "metadata": {},
   "outputs": [
    {
     "data": {
      "text/plain": [
       "<Axes: xlabel='score', ylabel='word_num'>"
      ]
     },
     "execution_count": 16,
     "metadata": {},
     "output_type": "execute_result"
    },
    {
     "data": {
      "image/png": "[encoded data removed]",
      "text/plain": [
       "<Figure size 640x480 with 1 Axes>"
      ]
     },
     "metadata": {},
     "output_type": "display_data"
    }
   ],
   "source": [
    "sns.regplot(data=dataset, x=\"score\", y=\"word_num\")"
   ]
  },
  {
   "cell_type": "code",
   "execution_count": 17,
   "id": "c98ed2bb-7c7d-4990-8bb2-9291ba03f182",
   "metadata": {},
   "outputs": [],
   "source": [
    "data = dataset.copy()"
   ]
  },
  {
   "cell_type": "code",
   "execution_count": 18,
   "id": "c68d454c-7f0c-4150-ad00-4fc760408eb3",
   "metadata": {},
   "outputs": [],
   "source": [
    "# get %99 of data\n",
    "data = data.sort_values(by=\"word_num\", ascending=False)"
   ]
  },
  {
   "cell_type": "code",
   "execution_count": 19,
   "id": "26c49423-0d03-40aa-a25b-3eea5aac403a",
   "metadata": {},
   "outputs": [],
   "source": [
    "ninety_nine = round(len(data) * 0.01)"
   ]
  },
  {
   "cell_type": "code",
   "execution_count": 20,
   "id": "5fc3ab56-1763-443c-87c8-334c93c4c9ad",
   "metadata": {},
   "outputs": [
    {
     "data": {
      "text/plain": [
       "173"
      ]
     },
     "execution_count": 20,
     "metadata": {},
     "output_type": "execute_result"
    }
   ],
   "source": [
    "ninety_nine"
   ]
  },
  {
   "cell_type": "code",
   "execution_count": 21,
   "id": "ee8f5821-202e-4815-98e0-0ee471105039",
   "metadata": {},
   "outputs": [],
   "source": [
    "data = data.iloc[ninety_nine:, :]"
   ]
  },
  {
   "cell_type": "code",
   "execution_count": 22,
   "id": "be3ecc27-e135-4192-a499-c37d9b9344a1",
   "metadata": {},
   "outputs": [
    {
     "data": {
      "text/html": [
       "<div>\n",
       "<style scoped>\n",
       "    .dataframe tbody tr th:only-of-type {\n",
       "        vertical-align: middle;\n",
       "    }\n",
       "\n",
       "    .dataframe tbody tr th {\n",
       "        vertical-align: top;\n",
       "    }\n",
       "\n",
       "    .dataframe thead th {\n",
       "        text-align: right;\n",
       "    }\n",
       "</style>\n",
       "<table border=\"1\" class=\"dataframe\">\n",
       "  <thead>\n",
       "    <tr style=\"text-align: right;\">\n",
       "      <th></th>\n",
       "      <th>essay_id</th>\n",
       "      <th>full_text</th>\n",
       "      <th>score</th>\n",
       "      <th>word_num</th>\n",
       "    </tr>\n",
       "  </thead>\n",
       "  <tbody>\n",
       "    <tr>\n",
       "      <th>1958</th>\n",
       "      <td>1dd6a58</td>\n",
       "      <td>How do we know if are feeling are real or not ...</td>\n",
       "      <td>4</td>\n",
       "      <td>818</td>\n",
       "    </tr>\n",
       "    <tr>\n",
       "      <th>8241</th>\n",
       "      <td>7af9f3a</td>\n",
       "      <td>The Mona Lisa is an old painting Painted in th...</td>\n",
       "      <td>4</td>\n",
       "      <td>817</td>\n",
       "    </tr>\n",
       "    <tr>\n",
       "      <th>1621</th>\n",
       "      <td>1911daf</td>\n",
       "      <td>Cars have always been apart of American cultur...</td>\n",
       "      <td>5</td>\n",
       "      <td>816</td>\n",
       "    </tr>\n",
       "    <tr>\n",
       "      <th>15051</th>\n",
       "      <td>dd852e1</td>\n",
       "      <td>Do you believe that NASA is with holding infor...</td>\n",
       "      <td>6</td>\n",
       "      <td>814</td>\n",
       "    </tr>\n",
       "    <tr>\n",
       "      <th>2550</th>\n",
       "      <td>26479a8</td>\n",
       "      <td>After the nice relaxed weekend at the beach St...</td>\n",
       "      <td>6</td>\n",
       "      <td>814</td>\n",
       "    </tr>\n",
       "    <tr>\n",
       "      <th>...</th>\n",
       "      <td>...</td>\n",
       "      <td>...</td>\n",
       "      <td>...</td>\n",
       "      <td>...</td>\n",
       "    </tr>\n",
       "    <tr>\n",
       "      <th>11656</th>\n",
       "      <td>ab47cd1</td>\n",
       "      <td>Why do you think ther is a face on Red Planet ...</td>\n",
       "      <td>2</td>\n",
       "      <td>148</td>\n",
       "    </tr>\n",
       "    <tr>\n",
       "      <th>16088</th>\n",
       "      <td>ed209df</td>\n",
       "      <td>Aliens had nothing to do with the face on Mars...</td>\n",
       "      <td>2</td>\n",
       "      <td>148</td>\n",
       "    </tr>\n",
       "    <tr>\n",
       "      <th>12951</th>\n",
       "      <td>be81f6d</td>\n",
       "      <td>You should be a Seagoing CowboyIt is fun but t...</td>\n",
       "      <td>2</td>\n",
       "      <td>148</td>\n",
       "    </tr>\n",
       "    <tr>\n",
       "      <th>913</th>\n",
       "      <td>0e8c167</td>\n",
       "      <td>Dear SenatorDo you really think the electoral ...</td>\n",
       "      <td>1</td>\n",
       "      <td>146</td>\n",
       "    </tr>\n",
       "    <tr>\n",
       "      <th>13790</th>\n",
       "      <td>ca5cb31</td>\n",
       "      <td>I belive what Luke is doing is grate to be hel...</td>\n",
       "      <td>2</td>\n",
       "      <td>142</td>\n",
       "    </tr>\n",
       "  </tbody>\n",
       "</table>\n",
       "<p>17134 rows × 4 columns</p>\n",
       "</div>"
      ],
      "text/plain": [
       "      essay_id                                          full_text  score  \\\n",
       "1958   1dd6a58  How do we know if are feeling are real or not ...      4   \n",
       "8241   7af9f3a  The Mona Lisa is an old painting Painted in th...      4   \n",
       "1621   1911daf  Cars have always been apart of American cultur...      5   \n",
       "15051  dd852e1  Do you believe that NASA is with holding infor...      6   \n",
       "2550   26479a8  After the nice relaxed weekend at the beach St...      6   \n",
       "...        ...                                                ...    ...   \n",
       "11656  ab47cd1  Why do you think ther is a face on Red Planet ...      2   \n",
       "16088  ed209df  Aliens had nothing to do with the face on Mars...      2   \n",
       "12951  be81f6d  You should be a Seagoing CowboyIt is fun but t...      2   \n",
       "913    0e8c167  Dear SenatorDo you really think the electoral ...      1   \n",
       "13790  ca5cb31  I belive what Luke is doing is grate to be hel...      2   \n",
       "\n",
       "       word_num  \n",
       "1958        818  \n",
       "8241        817  \n",
       "1621        816  \n",
       "15051       814  \n",
       "2550        814  \n",
       "...         ...  \n",
       "11656       148  \n",
       "16088       148  \n",
       "12951       148  \n",
       "913         146  \n",
       "13790       142  \n",
       "\n",
       "[17134 rows x 4 columns]"
      ]
     },
     "execution_count": 22,
     "metadata": {},
     "output_type": "execute_result"
    }
   ],
   "source": [
    "data"
   ]
  },
  {
   "cell_type": "code",
   "execution_count": 23,
   "id": "2357d755-3336-4ecb-89e6-ddc5763aa143",
   "metadata": {},
   "outputs": [],
   "source": [
    "data = data.sort_index()"
   ]
  },
  {
   "cell_type": "code",
   "execution_count": 24,
   "id": "e7e26583-ef42-49e4-ae66-2c5c88ea512c",
   "metadata": {},
   "outputs": [
    {
     "data": {
      "text/html": [
       "<div>\n",
       "<style scoped>\n",
       "    .dataframe tbody tr th:only-of-type {\n",
       "        vertical-align: middle;\n",
       "    }\n",
       "\n",
       "    .dataframe tbody tr th {\n",
       "        vertical-align: top;\n",
       "    }\n",
       "\n",
       "    .dataframe thead th {\n",
       "        text-align: right;\n",
       "    }\n",
       "</style>\n",
       "<table border=\"1\" class=\"dataframe\">\n",
       "  <thead>\n",
       "    <tr style=\"text-align: right;\">\n",
       "      <th></th>\n",
       "      <th>essay_id</th>\n",
       "      <th>full_text</th>\n",
       "      <th>score</th>\n",
       "      <th>word_num</th>\n",
       "    </tr>\n",
       "  </thead>\n",
       "  <tbody>\n",
       "    <tr>\n",
       "      <th>0</th>\n",
       "      <td>000d118</td>\n",
       "      <td>Many people have car where they live The thing...</td>\n",
       "      <td>3</td>\n",
       "      <td>493</td>\n",
       "    </tr>\n",
       "    <tr>\n",
       "      <th>1</th>\n",
       "      <td>000fe60</td>\n",
       "      <td>I am a scientist at NASA that is discussing th...</td>\n",
       "      <td>3</td>\n",
       "      <td>328</td>\n",
       "    </tr>\n",
       "    <tr>\n",
       "      <th>2</th>\n",
       "      <td>001ab80</td>\n",
       "      <td>People always wish they had the same technolog...</td>\n",
       "      <td>4</td>\n",
       "      <td>547</td>\n",
       "    </tr>\n",
       "    <tr>\n",
       "      <th>3</th>\n",
       "      <td>001bdc0</td>\n",
       "      <td>We all heard about Venus the planet without al...</td>\n",
       "      <td>4</td>\n",
       "      <td>445</td>\n",
       "    </tr>\n",
       "    <tr>\n",
       "      <th>4</th>\n",
       "      <td>002ba53</td>\n",
       "      <td>Dear State SenatorThis is a letter to argue in...</td>\n",
       "      <td>3</td>\n",
       "      <td>368</td>\n",
       "    </tr>\n",
       "    <tr>\n",
       "      <th>...</th>\n",
       "      <td>...</td>\n",
       "      <td>...</td>\n",
       "      <td>...</td>\n",
       "      <td>...</td>\n",
       "    </tr>\n",
       "    <tr>\n",
       "      <th>17302</th>\n",
       "      <td>ffd378d</td>\n",
       "      <td>the story  The Challenge of Exploing Venus  is...</td>\n",
       "      <td>2</td>\n",
       "      <td>153</td>\n",
       "    </tr>\n",
       "    <tr>\n",
       "      <th>17303</th>\n",
       "      <td>ffddf1f</td>\n",
       "      <td>Technology has changed a lot of ways that we l...</td>\n",
       "      <td>4</td>\n",
       "      <td>574</td>\n",
       "    </tr>\n",
       "    <tr>\n",
       "      <th>17304</th>\n",
       "      <td>fff016d</td>\n",
       "      <td>If you dont like sitting around all day than i...</td>\n",
       "      <td>2</td>\n",
       "      <td>213</td>\n",
       "    </tr>\n",
       "    <tr>\n",
       "      <th>17305</th>\n",
       "      <td>fffb49b</td>\n",
       "      <td>In The Challenge of Exporing Venus the author ...</td>\n",
       "      <td>1</td>\n",
       "      <td>230</td>\n",
       "    </tr>\n",
       "    <tr>\n",
       "      <th>17306</th>\n",
       "      <td>fffed3e</td>\n",
       "      <td>Venus is worthy place to study but dangerous T...</td>\n",
       "      <td>2</td>\n",
       "      <td>152</td>\n",
       "    </tr>\n",
       "  </tbody>\n",
       "</table>\n",
       "<p>17134 rows × 4 columns</p>\n",
       "</div>"
      ],
      "text/plain": [
       "      essay_id                                          full_text  score  \\\n",
       "0      000d118  Many people have car where they live The thing...      3   \n",
       "1      000fe60  I am a scientist at NASA that is discussing th...      3   \n",
       "2      001ab80  People always wish they had the same technolog...      4   \n",
       "3      001bdc0  We all heard about Venus the planet without al...      4   \n",
       "4      002ba53  Dear State SenatorThis is a letter to argue in...      3   \n",
       "...        ...                                                ...    ...   \n",
       "17302  ffd378d  the story  The Challenge of Exploing Venus  is...      2   \n",
       "17303  ffddf1f  Technology has changed a lot of ways that we l...      4   \n",
       "17304  fff016d  If you dont like sitting around all day than i...      2   \n",
       "17305  fffb49b  In The Challenge of Exporing Venus the author ...      1   \n",
       "17306  fffed3e  Venus is worthy place to study but dangerous T...      2   \n",
       "\n",
       "       word_num  \n",
       "0           493  \n",
       "1           328  \n",
       "2           547  \n",
       "3           445  \n",
       "4           368  \n",
       "...         ...  \n",
       "17302       153  \n",
       "17303       574  \n",
       "17304       213  \n",
       "17305       230  \n",
       "17306       152  \n",
       "\n",
       "[17134 rows x 4 columns]"
      ]
     },
     "execution_count": 24,
     "metadata": {},
     "output_type": "execute_result"
    }
   ],
   "source": [
    "data"
   ]
  },
  {
   "cell_type": "code",
   "execution_count": 25,
   "id": "b1415466-3949-4c6a-86aa-87ec7b031caf",
   "metadata": {},
   "outputs": [],
   "source": [
    "data = data.reset_index()"
   ]
  },
  {
   "cell_type": "code",
   "execution_count": 26,
   "id": "57d22f25-5491-43d8-8b87-8d4fe4424aa8",
   "metadata": {},
   "outputs": [
    {
     "data": {
      "text/html": [
       "<div>\n",
       "<style scoped>\n",
       "    .dataframe tbody tr th:only-of-type {\n",
       "        vertical-align: middle;\n",
       "    }\n",
       "\n",
       "    .dataframe tbody tr th {\n",
       "        vertical-align: top;\n",
       "    }\n",
       "\n",
       "    .dataframe thead th {\n",
       "        text-align: right;\n",
       "    }\n",
       "</style>\n",
       "<table border=\"1\" class=\"dataframe\">\n",
       "  <thead>\n",
       "    <tr style=\"text-align: right;\">\n",
       "      <th></th>\n",
       "      <th>index</th>\n",
       "      <th>essay_id</th>\n",
       "      <th>full_text</th>\n",
       "      <th>score</th>\n",
       "      <th>word_num</th>\n",
       "    </tr>\n",
       "  </thead>\n",
       "  <tbody>\n",
       "    <tr>\n",
       "      <th>0</th>\n",
       "      <td>0</td>\n",
       "      <td>000d118</td>\n",
       "      <td>Many people have car where they live The thing...</td>\n",
       "      <td>3</td>\n",
       "      <td>493</td>\n",
       "    </tr>\n",
       "    <tr>\n",
       "      <th>1</th>\n",
       "      <td>1</td>\n",
       "      <td>000fe60</td>\n",
       "      <td>I am a scientist at NASA that is discussing th...</td>\n",
       "      <td>3</td>\n",
       "      <td>328</td>\n",
       "    </tr>\n",
       "    <tr>\n",
       "      <th>2</th>\n",
       "      <td>2</td>\n",
       "      <td>001ab80</td>\n",
       "      <td>People always wish they had the same technolog...</td>\n",
       "      <td>4</td>\n",
       "      <td>547</td>\n",
       "    </tr>\n",
       "    <tr>\n",
       "      <th>3</th>\n",
       "      <td>3</td>\n",
       "      <td>001bdc0</td>\n",
       "      <td>We all heard about Venus the planet without al...</td>\n",
       "      <td>4</td>\n",
       "      <td>445</td>\n",
       "    </tr>\n",
       "    <tr>\n",
       "      <th>4</th>\n",
       "      <td>4</td>\n",
       "      <td>002ba53</td>\n",
       "      <td>Dear State SenatorThis is a letter to argue in...</td>\n",
       "      <td>3</td>\n",
       "      <td>368</td>\n",
       "    </tr>\n",
       "    <tr>\n",
       "      <th>...</th>\n",
       "      <td>...</td>\n",
       "      <td>...</td>\n",
       "      <td>...</td>\n",
       "      <td>...</td>\n",
       "      <td>...</td>\n",
       "    </tr>\n",
       "    <tr>\n",
       "      <th>17129</th>\n",
       "      <td>17302</td>\n",
       "      <td>ffd378d</td>\n",
       "      <td>the story  The Challenge of Exploing Venus  is...</td>\n",
       "      <td>2</td>\n",
       "      <td>153</td>\n",
       "    </tr>\n",
       "    <tr>\n",
       "      <th>17130</th>\n",
       "      <td>17303</td>\n",
       "      <td>ffddf1f</td>\n",
       "      <td>Technology has changed a lot of ways that we l...</td>\n",
       "      <td>4</td>\n",
       "      <td>574</td>\n",
       "    </tr>\n",
       "    <tr>\n",
       "      <th>17131</th>\n",
       "      <td>17304</td>\n",
       "      <td>fff016d</td>\n",
       "      <td>If you dont like sitting around all day than i...</td>\n",
       "      <td>2</td>\n",
       "      <td>213</td>\n",
       "    </tr>\n",
       "    <tr>\n",
       "      <th>17132</th>\n",
       "      <td>17305</td>\n",
       "      <td>fffb49b</td>\n",
       "      <td>In The Challenge of Exporing Venus the author ...</td>\n",
       "      <td>1</td>\n",
       "      <td>230</td>\n",
       "    </tr>\n",
       "    <tr>\n",
       "      <th>17133</th>\n",
       "      <td>17306</td>\n",
       "      <td>fffed3e</td>\n",
       "      <td>Venus is worthy place to study but dangerous T...</td>\n",
       "      <td>2</td>\n",
       "      <td>152</td>\n",
       "    </tr>\n",
       "  </tbody>\n",
       "</table>\n",
       "<p>17134 rows × 5 columns</p>\n",
       "</div>"
      ],
      "text/plain": [
       "       index essay_id                                          full_text  \\\n",
       "0          0  000d118  Many people have car where they live The thing...   \n",
       "1          1  000fe60  I am a scientist at NASA that is discussing th...   \n",
       "2          2  001ab80  People always wish they had the same technolog...   \n",
       "3          3  001bdc0  We all heard about Venus the planet without al...   \n",
       "4          4  002ba53  Dear State SenatorThis is a letter to argue in...   \n",
       "...      ...      ...                                                ...   \n",
       "17129  17302  ffd378d  the story  The Challenge of Exploing Venus  is...   \n",
       "17130  17303  ffddf1f  Technology has changed a lot of ways that we l...   \n",
       "17131  17304  fff016d  If you dont like sitting around all day than i...   \n",
       "17132  17305  fffb49b  In The Challenge of Exporing Venus the author ...   \n",
       "17133  17306  fffed3e  Venus is worthy place to study but dangerous T...   \n",
       "\n",
       "       score  word_num  \n",
       "0          3       493  \n",
       "1          3       328  \n",
       "2          4       547  \n",
       "3          4       445  \n",
       "4          3       368  \n",
       "...      ...       ...  \n",
       "17129      2       153  \n",
       "17130      4       574  \n",
       "17131      2       213  \n",
       "17132      1       230  \n",
       "17133      2       152  \n",
       "\n",
       "[17134 rows x 5 columns]"
      ]
     },
     "execution_count": 26,
     "metadata": {},
     "output_type": "execute_result"
    }
   ],
   "source": [
    "data"
   ]
  },
  {
   "cell_type": "code",
   "execution_count": 27,
   "id": "744497c0-bb40-44c4-a28c-7a32fa73b174",
   "metadata": {},
   "outputs": [],
   "source": [
    "data.drop(\"index\", axis=1, inplace=True)"
   ]
  },
  {
   "cell_type": "code",
   "execution_count": 28,
   "id": "48d34422-5c39-4e53-bdbc-14f50744545d",
   "metadata": {},
   "outputs": [
    {
     "data": {
      "text/html": [
       "<div>\n",
       "<style scoped>\n",
       "    .dataframe tbody tr th:only-of-type {\n",
       "        vertical-align: middle;\n",
       "    }\n",
       "\n",
       "    .dataframe tbody tr th {\n",
       "        vertical-align: top;\n",
       "    }\n",
       "\n",
       "    .dataframe thead th {\n",
       "        text-align: right;\n",
       "    }\n",
       "</style>\n",
       "<table border=\"1\" class=\"dataframe\">\n",
       "  <thead>\n",
       "    <tr style=\"text-align: right;\">\n",
       "      <th></th>\n",
       "      <th>essay_id</th>\n",
       "      <th>full_text</th>\n",
       "      <th>score</th>\n",
       "      <th>word_num</th>\n",
       "    </tr>\n",
       "  </thead>\n",
       "  <tbody>\n",
       "    <tr>\n",
       "      <th>0</th>\n",
       "      <td>000d118</td>\n",
       "      <td>Many people have car where they live The thing...</td>\n",
       "      <td>3</td>\n",
       "      <td>493</td>\n",
       "    </tr>\n",
       "    <tr>\n",
       "      <th>1</th>\n",
       "      <td>000fe60</td>\n",
       "      <td>I am a scientist at NASA that is discussing th...</td>\n",
       "      <td>3</td>\n",
       "      <td>328</td>\n",
       "    </tr>\n",
       "    <tr>\n",
       "      <th>2</th>\n",
       "      <td>001ab80</td>\n",
       "      <td>People always wish they had the same technolog...</td>\n",
       "      <td>4</td>\n",
       "      <td>547</td>\n",
       "    </tr>\n",
       "    <tr>\n",
       "      <th>3</th>\n",
       "      <td>001bdc0</td>\n",
       "      <td>We all heard about Venus the planet without al...</td>\n",
       "      <td>4</td>\n",
       "      <td>445</td>\n",
       "    </tr>\n",
       "    <tr>\n",
       "      <th>4</th>\n",
       "      <td>002ba53</td>\n",
       "      <td>Dear State SenatorThis is a letter to argue in...</td>\n",
       "      <td>3</td>\n",
       "      <td>368</td>\n",
       "    </tr>\n",
       "  </tbody>\n",
       "</table>\n",
       "</div>"
      ],
      "text/plain": [
       "  essay_id                                          full_text  score  word_num\n",
       "0  000d118  Many people have car where they live The thing...      3       493\n",
       "1  000fe60  I am a scientist at NASA that is discussing th...      3       328\n",
       "2  001ab80  People always wish they had the same technolog...      4       547\n",
       "3  001bdc0  We all heard about Venus the planet without al...      4       445\n",
       "4  002ba53  Dear State SenatorThis is a letter to argue in...      3       368"
      ]
     },
     "execution_count": 28,
     "metadata": {},
     "output_type": "execute_result"
    }
   ],
   "source": [
    "data.head()"
   ]
  },
  {
   "cell_type": "code",
   "execution_count": 29,
   "id": "ec4341d7-ad73-4fa0-ba4f-d1bb92b92d76",
   "metadata": {},
   "outputs": [
    {
     "data": {
      "text/plain": [
       "<Axes: xlabel='score', ylabel='word_num'>"
      ]
     },
     "execution_count": 29,
     "metadata": {},
     "output_type": "execute_result"
    },
    {
     "data": {
      "image/png": "[encoded data removed]",
      "text/plain": [
       "<Figure size 640x480 with 1 Axes>"
      ]
     },
     "metadata": {},
     "output_type": "display_data"
    }
   ],
   "source": [
    "sns.boxenplot(data=data, x=\"score\", y=\"word_num\")"
   ]
  },
  {
   "cell_type": "code",
   "execution_count": 30,
   "id": "510af547-fb20-4add-a0f7-0068565c13e1",
   "metadata": {},
   "outputs": [
    {
     "data": {
      "text/plain": [
       "<Axes: xlabel='score', ylabel='word_num'>"
      ]
     },
     "execution_count": 30,
     "metadata": {},
     "output_type": "execute_result"
    },
    {
     "data": {
      "image/png": "[encoded data removed]",
      "text/plain": [
       "<Figure size 640x480 with 1 Axes>"
      ]
     },
     "metadata": {},
     "output_type": "display_data"
    }
   ],
   "source": [
    "sns.regplot(data=data, x=\"score\", y=\"word_num\")"
   ]
  },
  {
   "cell_type": "markdown",
   "id": "4ff3bbd8-246f-4b22-a01f-1d4b95b350d7",
   "metadata": {},
   "source": [
    " ## PREPROCESSİNG"
   ]
  },
  {
   "cell_type": "markdown",
   "id": "f9c79ecc-18d8-4324-b7ee-9b33388282f9",
   "metadata": {},
   "source": [
    "## TEXTS DATA"
   ]
  },
  {
   "cell_type": "code",
   "execution_count": 31,
   "id": "dd33cd97-92b0-4b05-9124-62cf8b1d97e2",
   "metadata": {},
   "outputs": [],
   "source": [
    "texts = data.full_text.values"
   ]
  },
  {
   "cell_type": "code",
   "execution_count": 32,
   "id": "20159844-c833-4567-9d5a-373950b1d987",
   "metadata": {},
   "outputs": [],
   "source": [
    "tokenizer.fit_on_texts(texts)"
   ]
  },
  {
   "cell_type": "code",
   "execution_count": 33,
   "id": "ecf0bcd2-61c3-468a-a038-e04d182a90a0",
   "metadata": {},
   "outputs": [],
   "source": [
    "df =data.copy()"
   ]
  },
  {
   "cell_type": "code",
   "execution_count": 34,
   "id": "4952a734-5c89-4baf-aede-d79bcb93ee85",
   "metadata": {},
   "outputs": [],
   "source": [
    "texts = tokenizer.texts_to_sequences(df.full_text.values)"
   ]
  },
  {
   "cell_type": "code",
   "execution_count": 35,
   "id": "784de5cc-88f3-4666-ace2-819c10734776",
   "metadata": {},
   "outputs": [],
   "source": [
    "max_len = max([len(i) for i in texts]) "
   ]
  },
  {
   "cell_type": "code",
   "execution_count": 36,
   "id": "8cf564e5-a8d7-46ae-b6c2-9cff32ce46f5",
   "metadata": {},
   "outputs": [
    {
     "data": {
      "text/plain": [
       "804"
      ]
     },
     "execution_count": 36,
     "metadata": {},
     "output_type": "execute_result"
    }
   ],
   "source": [
    "max_len"
   ]
  },
  {
   "cell_type": "code",
   "execution_count": 37,
   "id": "d4471c08-71a0-46ce-9c2d-67d20c356146",
   "metadata": {},
   "outputs": [],
   "source": [
    "from keras.utils import pad_sequences"
   ]
  },
  {
   "cell_type": "code",
   "execution_count": 38,
   "id": "1d44aa9e-ba21-41f8-bff4-e9feab23e6c6",
   "metadata": {},
   "outputs": [],
   "source": [
    "padded = pad_sequences(texts, maxlen=max_len, padding=\"post\")"
   ]
  },
  {
   "cell_type": "markdown",
   "id": "d98997ba-cf61-497e-9d53-e2b5f04e07bf",
   "metadata": {},
   "source": [
    "# X-Y"
   ]
  },
  {
   "cell_type": "code",
   "execution_count": 39,
   "id": "1ffb7138-07bf-4581-8d4e-179756c5ccfa",
   "metadata": {},
   "outputs": [],
   "source": [
    "y = to_categorical(df.score.values, num_classes=7)"
   ]
  },
  {
   "cell_type": "code",
   "execution_count": 40,
   "id": "5eda91e1-a268-4b0f-89c4-70de7301ad15",
   "metadata": {},
   "outputs": [],
   "source": [
    "scaler = MinMaxScaler()"
   ]
  },
  {
   "cell_type": "code",
   "execution_count": 41,
   "id": "c4217bd9-d0dc-47af-b6e3-25b1874b9afb",
   "metadata": {},
   "outputs": [],
   "source": [
    "X = scaler.fit_transform([df.word_num.values])"
   ]
  },
  {
   "cell_type": "code",
   "execution_count": 42,
   "id": "aa19ffd9-7f25-4553-b6d1-99a32df98fcf",
   "metadata": {},
   "outputs": [],
   "source": [
    "X = X.reshape(-1, 1)"
   ]
  },
  {
   "cell_type": "code",
   "execution_count": 43,
   "id": "445c8a93-a0d1-405f-b620-96a472fbb277",
   "metadata": {},
   "outputs": [
    {
     "data": {
      "text/plain": [
       "((17134, 7), (17134, 1))"
      ]
     },
     "execution_count": 43,
     "metadata": {},
     "output_type": "execute_result"
    }
   ],
   "source": [
    "y.shape, X.shape"
   ]
  },
  {
   "cell_type": "markdown",
   "id": "5c10278d-1cb6-46b7-94b2-6f1c4c6e29b9",
   "metadata": {},
   "source": [
    "## MODEL"
   ]
  },
  {
   "cell_type": "code",
   "execution_count": 44,
   "id": "249a5cde-2f2e-4caa-9136-b07d699ca6d9",
   "metadata": {},
   "outputs": [],
   "source": [
    "def create_model():\n",
    "    input_lstm = Input(shape=(max_len,))\n",
    "    text_ai_input = Embedding(input_dim=10000, input_length=max_len, output_dim=128)(input_lstm)\n",
    "    text_ai_lstm_1 = LSTM(128, return_sequences=True)(text_ai_input)\n",
    "    text_ai_dr1 = Dropout(0.3)(text_ai_lstm_1)\n",
    "    text_ai_lstm2 = LSTM(128)(text_ai_dr1)\n",
    "    text_ai_dr2 = Dropout(0.2)(text_ai_lstm2)\n",
    "    text_ai_dense = Dense(128, activation=\"relu\")(text_ai_dr2)\n",
    "\n",
    "    # linear model\n",
    "    linear_model_input = Input(shape=(1, ))\n",
    "    linear_model_dense = Dense(128, activation=\"relu\")(linear_model_input)\n",
    "    linear_model_dr = Dropout(0.2)(linear_model_dense)\n",
    "    linear_model_dense2 = Dense(128, activation=\"relu\")(linear_model_dr)\n",
    "    linear_model_dr2 = Dropout(0.2)(linear_model_dense2)\n",
    "    linear_model_dense3 = Dense(128, activation=\"relu\")(linear_model_dr2)\n",
    "\n",
    "    concated_layer = Concatenate()([text_ai_dense, linear_model_dense3])\n",
    "    concated_dense = Dense(256, activation=\"relu\")(concated_layer)\n",
    "    concated_dr = Dropout(0.2)(concated_dense)\n",
    "    concated_dense2 = Dense(128)(concated_dr)\n",
    "    out = Dense(7, activation=\"softmax\")(concated_dense2)\n",
    "\n",
    "    model = Model(inputs=[input_lstm, linear_model_input], outputs=out)\n",
    "    model.summary()\n",
    "    return model\n",
    "    "
   ]
  },
  {
   "cell_type": "code",
   "execution_count": 45,
   "id": "82141bf3-b757-4413-ba80-3d096e8ed2c9",
   "metadata": {},
   "outputs": [
    {
     "name": "stderr",
     "output_type": "stream",
     "text": [
      "2024-07-08 00:19:57.391751: I external/local_xla/xla/stream_executor/cuda/cuda_executor.cc:901] successful NUMA node read from SysFS had negative value (-1), but there must be at least one NUMA node, so returning NUMA node zero. See more at https://github.com/torvalds/linux/blob/v6.0/Documentation/ABI/testing/sysfs-bus-pci#L344-L355\n",
      "2024-07-08 00:19:57.424821: I external/local_xla/xla/stream_executor/cuda/cuda_executor.cc:901] successful NUMA node read from SysFS had negative value (-1), but there must be at least one NUMA node, so returning NUMA node zero. See more at https://github.com/torvalds/linux/blob/v6.0/Documentation/ABI/testing/sysfs-bus-pci#L344-L355\n",
      "2024-07-08 00:19:57.425079: I external/local_xla/xla/stream_executor/cuda/cuda_executor.cc:901] successful NUMA node read from SysFS had negative value (-1), but there must be at least one NUMA node, so returning NUMA node zero. See more at https://github.com/torvalds/linux/blob/v6.0/Documentation/ABI/testing/sysfs-bus-pci#L344-L355\n",
      "2024-07-08 00:19:57.426710: I external/local_xla/xla/stream_executor/cuda/cuda_executor.cc:901] successful NUMA node read from SysFS had negative value (-1), but there must be at least one NUMA node, so returning NUMA node zero. See more at https://github.com/torvalds/linux/blob/v6.0/Documentation/ABI/testing/sysfs-bus-pci#L344-L355\n",
      "2024-07-08 00:19:57.426937: I external/local_xla/xla/stream_executor/cuda/cuda_executor.cc:901] successful NUMA node read from SysFS had negative value (-1), but there must be at least one NUMA node, so returning NUMA node zero. See more at https://github.com/torvalds/linux/blob/v6.0/Documentation/ABI/testing/sysfs-bus-pci#L344-L355\n",
      "2024-07-08 00:19:57.427126: I external/local_xla/xla/stream_executor/cuda/cuda_executor.cc:901] successful NUMA node read from SysFS had negative value (-1), but there must be at least one NUMA node, so returning NUMA node zero. See more at https://github.com/torvalds/linux/blob/v6.0/Documentation/ABI/testing/sysfs-bus-pci#L344-L355\n",
      "2024-07-08 00:19:57.484417: I external/local_xla/xla/stream_executor/cuda/cuda_executor.cc:901] successful NUMA node read from SysFS had negative value (-1), but there must be at least one NUMA node, so returning NUMA node zero. See more at https://github.com/torvalds/linux/blob/v6.0/Documentation/ABI/testing/sysfs-bus-pci#L344-L355\n",
      "2024-07-08 00:19:57.484711: I external/local_xla/xla/stream_executor/cuda/cuda_executor.cc:901] successful NUMA node read from SysFS had negative value (-1), but there must be at least one NUMA node, so returning NUMA node zero. See more at https://github.com/torvalds/linux/blob/v6.0/Documentation/ABI/testing/sysfs-bus-pci#L344-L355\n",
      "2024-07-08 00:19:57.484935: I external/local_xla/xla/stream_executor/cuda/cuda_executor.cc:901] successful NUMA node read from SysFS had negative value (-1), but there must be at least one NUMA node, so returning NUMA node zero. See more at https://github.com/torvalds/linux/blob/v6.0/Documentation/ABI/testing/sysfs-bus-pci#L344-L355\n",
      "2024-07-08 00:19:57.485108: I tensorflow/core/common_runtime/gpu/gpu_device.cc:1929] Created device /job:localhost/replica:0/task:0/device:GPU:0 with 6223 MB memory:  -> device: 0, name: NVIDIA GeForce RTX 3070 Ti Laptop GPU, pci bus id: 0000:01:00.0, compute capability: 8.6\n"
     ]
    },
    {
     "name": "stdout",
     "output_type": "stream",
     "text": [
      "Model: \"model\"\n",
      "__________________________________________________________________________________________________\n",
      " Layer (type)                Output Shape                 Param #   Connected to                  \n",
      "==================================================================================================\n",
      " input_1 (InputLayer)        [(None, 804)]                0         []                            \n",
      "                                                                                                  \n",
      " embedding (Embedding)       (None, 804, 128)             1280000   ['input_1[0][0]']             \n",
      "                                                                                                  \n",
      " input_2 (InputLayer)        [(None, 1)]                  0         []                            \n",
      "                                                                                                  \n",
      " lstm (LSTM)                 (None, 804, 128)             131584    ['embedding[0][0]']           \n",
      "                                                                                                  \n",
      " dense_1 (Dense)             (None, 128)                  256       ['input_2[0][0]']             \n",
      "                                                                                                  \n",
      " dropout (Dropout)           (None, 804, 128)             0         ['lstm[0][0]']                \n",
      "                                                                                                  \n",
      " dropout_2 (Dropout)         (None, 128)                  0         ['dense_1[0][0]']             \n",
      "                                                                                                  \n",
      " lstm_1 (LSTM)               (None, 128)                  131584    ['dropout[0][0]']             \n",
      "                                                                                                  \n",
      " dense_2 (Dense)             (None, 128)                  16512     ['dropout_2[0][0]']           \n",
      "                                                                                                  \n",
      " dropout_1 (Dropout)         (None, 128)                  0         ['lstm_1[0][0]']              \n",
      "                                                                                                  \n",
      " dropout_3 (Dropout)         (None, 128)                  0         ['dense_2[0][0]']             \n",
      "                                                                                                  \n",
      " dense (Dense)               (None, 128)                  16512     ['dropout_1[0][0]']           \n",
      "                                                                                                  \n",
      " dense_3 (Dense)             (None, 128)                  16512     ['dropout_3[0][0]']           \n",
      "                                                                                                  \n",
      " concatenate (Concatenate)   (None, 256)                  0         ['dense[0][0]',               \n",
      "                                                                     'dense_3[0][0]']             \n",
      "                                                                                                  \n",
      " dense_4 (Dense)             (None, 256)                  65792     ['concatenate[0][0]']         \n",
      "                                                                                                  \n",
      " dropout_4 (Dropout)         (None, 256)                  0         ['dense_4[0][0]']             \n",
      "                                                                                                  \n",
      " dense_5 (Dense)             (None, 128)                  32896     ['dropout_4[0][0]']           \n",
      "                                                                                                  \n",
      " dense_6 (Dense)             (None, 7)                    903       ['dense_5[0][0]']             \n",
      "                                                                                                  \n",
      "==================================================================================================\n",
      "Total params: 1692551 (6.46 MB)\n",
      "Trainable params: 1692551 (6.46 MB)\n",
      "Non-trainable params: 0 (0.00 Byte)\n",
      "__________________________________________________________________________________________________\n"
     ]
    }
   ],
   "source": [
    "model = create_model()"
   ]
  },
  {
   "cell_type": "code",
   "execution_count": 46,
   "id": "e7e30846-22ee-43af-aac0-663094bd47b6",
   "metadata": {},
   "outputs": [],
   "source": [
    "model.compile(loss=\"categorical_crossentropy\", optimizer=\"adam\", metrics=[\"accuracy\"])"
   ]
  },
  {
   "cell_type": "code",
   "execution_count": 47,
   "id": "2fcbd158-a4fb-457b-8acf-4ef7c58e9fd9",
   "metadata": {},
   "outputs": [],
   "source": [
    "from sklearn.model_selection import train_test_split"
   ]
  },
  {
   "cell_type": "code",
   "execution_count": 48,
   "id": "ebe5aaef-5fa7-496d-a6eb-7eb322a0aaab",
   "metadata": {},
   "outputs": [],
   "source": [
    "txt_train, txt_test, X_train, X_test, y_train, y_test = train_test_split(padded, X, y, train_size=0.8, random_state=42)"
   ]
  },
  {
   "cell_type": "code",
   "execution_count": 49,
   "id": "13138ad5-31f9-463a-a752-e9b30248cd66",
   "metadata": {},
   "outputs": [
    {
     "data": {
      "text/plain": [
       "((13707, 804), (13707, 1), (3427, 7))"
      ]
     },
     "execution_count": 49,
     "metadata": {},
     "output_type": "execute_result"
    }
   ],
   "source": [
    "txt_train.shape, X_train.shape, y_test.shape"
   ]
  },
  {
   "cell_type": "code",
   "execution_count": 50,
   "id": "eeaa2f30-5ac1-4a0d-86a7-a36e1a99b01c",
   "metadata": {},
   "outputs": [],
   "source": [
    "from keras.callbacks import ModelCheckpoint"
   ]
  },
  {
   "cell_type": "code",
   "execution_count": 51,
   "id": "f310f044-8bd0-45eb-a988-91ea8b8ccb94",
   "metadata": {},
   "outputs": [],
   "source": [
    "cp = ModelCheckpoint(filepath=\"essay\", save_best_only=True, mode=\"min\", monitor=\"val_loss\")"
   ]
  },
  {
   "cell_type": "code",
   "execution_count": 52,
   "id": "b61c3653-eed1-4b90-8945-701d3b69755f",
   "metadata": {},
   "outputs": [
    {
     "name": "stdout",
     "output_type": "stream",
     "text": [
      "Epoch 1/100\n"
     ]
    },
    {
     "name": "stderr",
     "output_type": "stream",
     "text": [
      "2024-07-08 00:20:00.178171: I external/local_xla/xla/stream_executor/cuda/cuda_dnn.cc:454] Loaded cuDNN version 8902\n",
      "2024-07-08 00:20:00.714647: I external/local_xla/xla/service/service.cc:168] XLA service 0x74fd9cec1250 initialized for platform CUDA (this does not guarantee that XLA will be used). Devices:\n",
      "2024-07-08 00:20:00.714670: I external/local_xla/xla/service/service.cc:176]   StreamExecutor device (0): NVIDIA GeForce RTX 3070 Ti Laptop GPU, Compute Capability 8.6\n",
      "2024-07-08 00:20:00.718846: I tensorflow/compiler/mlir/tensorflow/utils/dump_mlir_util.cc:269] disabling MLIR crash reproducer, set env var `MLIR_CRASH_REPRODUCER_DIRECTORY` to enable.\n",
      "WARNING: All log messages before absl::InitializeLog() is called are written to STDERR\n",
      "I0000 00:00:1720387200.794942  114966 device_compiler.h:186] Compiled cluster using XLA!  This line is logged at most once for the lifetime of the process.\n"
     ]
    },
    {
     "name": "stdout",
     "output_type": "stream",
     "text": [
      "429/429 [==============================] - ETA: 0s - loss: 1.4605 - accuracy: 0.3592INFO:tensorflow:Assets written to: essay/assets\n"
     ]
    },
    {
     "name": "stderr",
     "output_type": "stream",
     "text": [
      "INFO:tensorflow:Assets written to: essay/assets\n"
     ]
    },
    {
     "name": "stdout",
     "output_type": "stream",
     "text": [
      "429/429 [==============================] - 41s 88ms/step - loss: 1.4605 - accuracy: 0.3592 - val_loss: 1.4447 - val_accuracy: 0.3630\n",
      "Epoch 2/100\n",
      "429/429 [==============================] - ETA: 0s - loss: 1.4466 - accuracy: 0.3635INFO:tensorflow:Assets written to: essay/assets\n"
     ]
    },
    {
     "name": "stderr",
     "output_type": "stream",
     "text": [
      "INFO:tensorflow:Assets written to: essay/assets\n"
     ]
    },
    {
     "name": "stdout",
     "output_type": "stream",
     "text": [
      "429/429 [==============================] - 28s 65ms/step - loss: 1.4466 - accuracy: 0.3635 - val_loss: 1.4378 - val_accuracy: 0.3630\n",
      "Epoch 3/100\n",
      "429/429 [==============================] - ETA: 0s - loss: 1.4423 - accuracy: 0.3663INFO:tensorflow:Assets written to: essay/assets\n"
     ]
    },
    {
     "name": "stderr",
     "output_type": "stream",
     "text": [
      "INFO:tensorflow:Assets written to: essay/assets\n"
     ]
    },
    {
     "name": "stdout",
     "output_type": "stream",
     "text": [
      "429/429 [==============================] - 25s 59ms/step - loss: 1.4423 - accuracy: 0.3663 - val_loss: 1.4373 - val_accuracy: 0.3630\n",
      "Epoch 4/100\n",
      "429/429 [==============================] - ETA: 0s - loss: 1.4432 - accuracy: 0.3668INFO:tensorflow:Assets written to: essay/assets\n"
     ]
    },
    {
     "name": "stderr",
     "output_type": "stream",
     "text": [
      "INFO:tensorflow:Assets written to: essay/assets\n"
     ]
    },
    {
     "name": "stdout",
     "output_type": "stream",
     "text": [
      "429/429 [==============================] - 24s 56ms/step - loss: 1.4432 - accuracy: 0.3668 - val_loss: 1.4356 - val_accuracy: 0.3630\n",
      "Epoch 5/100\n",
      "429/429 [==============================] - 21s 49ms/step - loss: 1.4423 - accuracy: 0.3666 - val_loss: 1.4383 - val_accuracy: 0.3630\n",
      "Epoch 6/100\n",
      "429/429 [==============================] - ETA: 0s - loss: 1.4414 - accuracy: 0.3667INFO:tensorflow:Assets written to: essay/assets\n"
     ]
    },
    {
     "name": "stderr",
     "output_type": "stream",
     "text": [
      "INFO:tensorflow:Assets written to: essay/assets\n"
     ]
    },
    {
     "name": "stdout",
     "output_type": "stream",
     "text": [
      "429/429 [==============================] - 24s 56ms/step - loss: 1.4414 - accuracy: 0.3667 - val_loss: 1.4348 - val_accuracy: 0.3630\n",
      "Epoch 7/100\n",
      "429/429 [==============================] - ETA: 0s - loss: 1.4416 - accuracy: 0.3667INFO:tensorflow:Assets written to: essay/assets\n"
     ]
    },
    {
     "name": "stderr",
     "output_type": "stream",
     "text": [
      "INFO:tensorflow:Assets written to: essay/assets\n"
     ]
    },
    {
     "name": "stdout",
     "output_type": "stream",
     "text": [
      "429/429 [==============================] - 24s 56ms/step - loss: 1.4416 - accuracy: 0.3667 - val_loss: 1.4336 - val_accuracy: 0.3630\n",
      "Epoch 8/100\n",
      "429/429 [==============================] - ETA: 0s - loss: 1.4330 - accuracy: 0.3688INFO:tensorflow:Assets written to: essay/assets\n"
     ]
    },
    {
     "name": "stderr",
     "output_type": "stream",
     "text": [
      "INFO:tensorflow:Assets written to: essay/assets\n"
     ]
    },
    {
     "name": "stdout",
     "output_type": "stream",
     "text": [
      "429/429 [==============================] - 23s 54ms/step - loss: 1.4330 - accuracy: 0.3688 - val_loss: 1.4065 - val_accuracy: 0.3691\n",
      "Epoch 9/100\n",
      "429/429 [==============================] - ETA: 0s - loss: 1.2327 - accuracy: 0.4599INFO:tensorflow:Assets written to: essay/assets\n"
     ]
    },
    {
     "name": "stderr",
     "output_type": "stream",
     "text": [
      "INFO:tensorflow:Assets written to: essay/assets\n"
     ]
    },
    {
     "name": "stdout",
     "output_type": "stream",
     "text": [
      "429/429 [==============================] - 24s 55ms/step - loss: 1.2327 - accuracy: 0.4599 - val_loss: 1.0717 - val_accuracy: 0.5436\n",
      "Epoch 10/100\n",
      "429/429 [==============================] - ETA: 0s - loss: 1.0518 - accuracy: 0.5483INFO:tensorflow:Assets written to: essay/assets\n"
     ]
    },
    {
     "name": "stderr",
     "output_type": "stream",
     "text": [
      "INFO:tensorflow:Assets written to: essay/assets\n"
     ]
    },
    {
     "name": "stdout",
     "output_type": "stream",
     "text": [
      "429/429 [==============================] - 23s 55ms/step - loss: 1.0518 - accuracy: 0.5483 - val_loss: 1.0493 - val_accuracy: 0.5308\n",
      "Epoch 11/100\n",
      "429/429 [==============================] - ETA: 0s - loss: 0.9757 - accuracy: 0.5820INFO:tensorflow:Assets written to: essay/assets\n"
     ]
    },
    {
     "name": "stderr",
     "output_type": "stream",
     "text": [
      "INFO:tensorflow:Assets written to: essay/assets\n"
     ]
    },
    {
     "name": "stdout",
     "output_type": "stream",
     "text": [
      "429/429 [==============================] - 23s 54ms/step - loss: 0.9757 - accuracy: 0.5820 - val_loss: 0.9689 - val_accuracy: 0.5772\n",
      "Epoch 12/100\n",
      "429/429 [==============================] - 20s 46ms/step - loss: 0.9394 - accuracy: 0.6020 - val_loss: 1.0150 - val_accuracy: 0.5527\n",
      "Epoch 13/100\n",
      "429/429 [==============================] - ETA: 0s - loss: 0.8967 - accuracy: 0.6191INFO:tensorflow:Assets written to: essay/assets\n"
     ]
    },
    {
     "name": "stderr",
     "output_type": "stream",
     "text": [
      "INFO:tensorflow:Assets written to: essay/assets\n"
     ]
    },
    {
     "name": "stdout",
     "output_type": "stream",
     "text": [
      "429/429 [==============================] - 23s 54ms/step - loss: 0.8967 - accuracy: 0.6191 - val_loss: 0.9515 - val_accuracy: 0.5865\n",
      "Epoch 14/100\n",
      "429/429 [==============================] - 20s 46ms/step - loss: 0.8661 - accuracy: 0.6338 - val_loss: 0.9573 - val_accuracy: 0.5681\n",
      "Epoch 15/100\n",
      "429/429 [==============================] - 20s 46ms/step - loss: 0.8430 - accuracy: 0.6420 - val_loss: 1.0470 - val_accuracy: 0.5652\n",
      "Epoch 16/100\n",
      "429/429 [==============================] - 20s 46ms/step - loss: 0.8212 - accuracy: 0.6538 - val_loss: 0.9835 - val_accuracy: 0.5856\n",
      "Epoch 17/100\n",
      "429/429 [==============================] - 20s 46ms/step - loss: 0.8024 - accuracy: 0.6683 - val_loss: 0.9948 - val_accuracy: 0.5667\n",
      "Epoch 18/100\n",
      "429/429 [==============================] - 20s 46ms/step - loss: 0.7716 - accuracy: 0.6855 - val_loss: 0.9776 - val_accuracy: 0.5935\n",
      "Epoch 19/100\n",
      "429/429 [==============================] - 20s 46ms/step - loss: 0.7532 - accuracy: 0.6945 - val_loss: 0.9658 - val_accuracy: 0.5924\n",
      "Epoch 20/100\n",
      "429/429 [==============================] - 20s 45ms/step - loss: 0.7254 - accuracy: 0.7155 - val_loss: 1.0123 - val_accuracy: 0.5658\n",
      "Epoch 21/100\n",
      "429/429 [==============================] - 20s 46ms/step - loss: 0.7026 - accuracy: 0.7250 - val_loss: 1.0578 - val_accuracy: 0.5559\n",
      "Epoch 22/100\n",
      "429/429 [==============================] - 20s 46ms/step - loss: 0.6732 - accuracy: 0.7393 - val_loss: 1.1102 - val_accuracy: 0.5360\n",
      "Epoch 23/100\n",
      "429/429 [==============================] - 19s 45ms/step - loss: 0.6415 - accuracy: 0.7578 - val_loss: 1.1518 - val_accuracy: 0.5559\n",
      "Epoch 24/100\n",
      "429/429 [==============================] - 20s 46ms/step - loss: 0.6217 - accuracy: 0.7762 - val_loss: 1.1382 - val_accuracy: 0.5611\n",
      "Epoch 25/100\n",
      "429/429 [==============================] - 20s 46ms/step - loss: 0.5848 - accuracy: 0.7911 - val_loss: 1.0721 - val_accuracy: 0.5897\n",
      "Epoch 26/100\n",
      "429/429 [==============================] - 19s 45ms/step - loss: 0.5955 - accuracy: 0.7890 - val_loss: 1.2698 - val_accuracy: 0.5413\n",
      "Epoch 27/100\n",
      "429/429 [==============================] - 20s 46ms/step - loss: 0.5288 - accuracy: 0.8221 - val_loss: 1.2234 - val_accuracy: 0.5483\n",
      "Epoch 28/100\n",
      "429/429 [==============================] - 19s 45ms/step - loss: 0.4893 - accuracy: 0.8410 - val_loss: 1.1549 - val_accuracy: 0.5883\n",
      "Epoch 29/100\n",
      "429/429 [==============================] - 19s 45ms/step - loss: 0.4617 - accuracy: 0.8513 - val_loss: 1.2331 - val_accuracy: 0.5690\n",
      "Epoch 30/100\n",
      "429/429 [==============================] - 20s 46ms/step - loss: 0.4397 - accuracy: 0.8623 - val_loss: 1.3217 - val_accuracy: 0.5614\n",
      "Epoch 31/100\n",
      "429/429 [==============================] - 20s 46ms/step - loss: 0.4220 - accuracy: 0.8723 - val_loss: 1.2785 - val_accuracy: 0.5693\n",
      "Epoch 32/100\n",
      "429/429 [==============================] - 20s 46ms/step - loss: 0.3949 - accuracy: 0.8834 - val_loss: 1.3801 - val_accuracy: 0.5573\n",
      "Epoch 33/100\n",
      "429/429 [==============================] - 19s 45ms/step - loss: 0.3835 - accuracy: 0.8886 - val_loss: 1.3764 - val_accuracy: 0.5632\n",
      "Epoch 34/100\n",
      "429/429 [==============================] - 19s 45ms/step - loss: 0.3601 - accuracy: 0.8959 - val_loss: 1.4060 - val_accuracy: 0.5530\n",
      "Epoch 35/100\n",
      "429/429 [==============================] - 19s 45ms/step - loss: 0.3304 - accuracy: 0.9084 - val_loss: 1.5557 - val_accuracy: 0.5314\n",
      "Epoch 36/100\n",
      "429/429 [==============================] - 20s 46ms/step - loss: 0.3362 - accuracy: 0.9045 - val_loss: 1.6047 - val_accuracy: 0.5410\n",
      "Epoch 37/100\n",
      "429/429 [==============================] - 19s 45ms/step - loss: 0.3442 - accuracy: 0.9007 - val_loss: 1.4863 - val_accuracy: 0.5518\n",
      "Epoch 38/100\n",
      "429/429 [==============================] - 20s 46ms/step - loss: 0.3061 - accuracy: 0.9166 - val_loss: 1.6114 - val_accuracy: 0.5477\n",
      "Epoch 39/100\n",
      "429/429 [==============================] - 19s 45ms/step - loss: 0.2825 - accuracy: 0.9254 - val_loss: 1.7062 - val_accuracy: 0.5629\n",
      "Epoch 40/100\n",
      "429/429 [==============================] - 19s 45ms/step - loss: 0.2865 - accuracy: 0.9223 - val_loss: 1.6315 - val_accuracy: 0.5603\n",
      "Epoch 41/100\n",
      "429/429 [==============================] - 20s 46ms/step - loss: 0.2720 - accuracy: 0.9268 - val_loss: 1.6858 - val_accuracy: 0.5582\n",
      "Epoch 42/100\n",
      "429/429 [==============================] - 19s 45ms/step - loss: 0.2681 - accuracy: 0.9281 - val_loss: 1.5391 - val_accuracy: 0.5617\n",
      "Epoch 43/100\n",
      "429/429 [==============================] - 19s 45ms/step - loss: 0.2464 - accuracy: 0.9364 - val_loss: 1.7661 - val_accuracy: 0.5267\n",
      "Epoch 44/100\n",
      "429/429 [==============================] - 19s 45ms/step - loss: 0.2502 - accuracy: 0.9340 - val_loss: 1.6390 - val_accuracy: 0.5375\n",
      "Epoch 45/100\n",
      "429/429 [==============================] - 19s 45ms/step - loss: 0.2458 - accuracy: 0.9358 - val_loss: 1.7166 - val_accuracy: 0.5366\n",
      "Epoch 46/100\n",
      "429/429 [==============================] - 20s 45ms/step - loss: 0.2369 - accuracy: 0.9374 - val_loss: 1.8933 - val_accuracy: 0.5331\n",
      "Epoch 47/100\n",
      "429/429 [==============================] - 19s 45ms/step - loss: 0.2286 - accuracy: 0.9403 - val_loss: 2.0101 - val_accuracy: 0.5144\n",
      "Epoch 48/100\n",
      "429/429 [==============================] - 19s 45ms/step - loss: 0.2364 - accuracy: 0.9369 - val_loss: 1.6635 - val_accuracy: 0.5512\n",
      "Epoch 49/100\n",
      "429/429 [==============================] - 19s 45ms/step - loss: 0.2286 - accuracy: 0.9381 - val_loss: 1.8099 - val_accuracy: 0.5159\n",
      "Epoch 50/100\n",
      "429/429 [==============================] - 19s 45ms/step - loss: 0.2063 - accuracy: 0.9467 - val_loss: 1.8731 - val_accuracy: 0.5349\n",
      "Epoch 51/100\n",
      "429/429 [==============================] - 19s 45ms/step - loss: 0.1897 - accuracy: 0.9518 - val_loss: 1.7904 - val_accuracy: 0.5349\n",
      "Epoch 52/100\n",
      "429/429 [==============================] - 19s 45ms/step - loss: 0.2107 - accuracy: 0.9437 - val_loss: 1.7695 - val_accuracy: 0.5509\n",
      "Epoch 53/100\n",
      "429/429 [==============================] - 19s 45ms/step - loss: 0.2155 - accuracy: 0.9415 - val_loss: 1.8523 - val_accuracy: 0.5460\n",
      "Epoch 54/100\n",
      "429/429 [==============================] - 19s 45ms/step - loss: 0.1853 - accuracy: 0.9518 - val_loss: 1.9304 - val_accuracy: 0.5188\n",
      "Epoch 55/100\n",
      "429/429 [==============================] - 19s 45ms/step - loss: 0.1782 - accuracy: 0.9538 - val_loss: 1.9521 - val_accuracy: 0.5521\n",
      "Epoch 56/100\n",
      "429/429 [==============================] - 19s 45ms/step - loss: 0.1703 - accuracy: 0.9554 - val_loss: 1.9199 - val_accuracy: 0.5317\n",
      "Epoch 57/100\n",
      "429/429 [==============================] - 19s 45ms/step - loss: 0.1685 - accuracy: 0.9545 - val_loss: 2.0720 - val_accuracy: 0.5322\n",
      "Epoch 58/100\n",
      "429/429 [==============================] - 19s 45ms/step - loss: 0.2034 - accuracy: 0.9427 - val_loss: 1.7946 - val_accuracy: 0.5357\n",
      "Epoch 59/100\n",
      "429/429 [==============================] - 20s 46ms/step - loss: 0.1607 - accuracy: 0.9583 - val_loss: 2.0012 - val_accuracy: 0.5328\n",
      "Epoch 60/100\n",
      "429/429 [==============================] - 19s 45ms/step - loss: 0.1475 - accuracy: 0.9608 - val_loss: 1.8028 - val_accuracy: 0.5436\n",
      "Epoch 61/100\n",
      "429/429 [==============================] - 20s 45ms/step - loss: 0.1465 - accuracy: 0.9627 - val_loss: 2.1405 - val_accuracy: 0.5337\n",
      "Epoch 62/100\n",
      "429/429 [==============================] - 19s 45ms/step - loss: 0.1516 - accuracy: 0.9596 - val_loss: 2.2260 - val_accuracy: 0.5322\n",
      "Epoch 63/100\n",
      "429/429 [==============================] - 19s 45ms/step - loss: 0.1520 - accuracy: 0.9607 - val_loss: 2.1114 - val_accuracy: 0.5407\n",
      "Epoch 64/100\n",
      "429/429 [==============================] - 19s 45ms/step - loss: 0.1490 - accuracy: 0.9596 - val_loss: 1.9244 - val_accuracy: 0.5384\n",
      "Epoch 65/100\n",
      "429/429 [==============================] - 20s 46ms/step - loss: 0.1581 - accuracy: 0.9575 - val_loss: 2.2791 - val_accuracy: 0.5188\n",
      "Epoch 66/100\n",
      "429/429 [==============================] - 19s 45ms/step - loss: 0.1316 - accuracy: 0.9664 - val_loss: 2.3451 - val_accuracy: 0.5159\n",
      "Epoch 67/100\n",
      "429/429 [==============================] - 20s 46ms/step - loss: 0.1290 - accuracy: 0.9661 - val_loss: 2.1165 - val_accuracy: 0.5255\n",
      "Epoch 68/100\n",
      "429/429 [==============================] - 20s 46ms/step - loss: 0.1457 - accuracy: 0.9633 - val_loss: 1.9252 - val_accuracy: 0.5378\n",
      "Epoch 69/100\n",
      "429/429 [==============================] - 20s 46ms/step - loss: 0.1300 - accuracy: 0.9678 - val_loss: 2.0794 - val_accuracy: 0.5258\n",
      "Epoch 70/100\n",
      "429/429 [==============================] - 20s 46ms/step - loss: 0.1436 - accuracy: 0.9610 - val_loss: 1.9444 - val_accuracy: 0.5325\n",
      "Epoch 71/100\n",
      "429/429 [==============================] - 19s 45ms/step - loss: 0.1253 - accuracy: 0.9668 - val_loss: 2.2099 - val_accuracy: 0.5282\n",
      "Epoch 72/100\n",
      "429/429 [==============================] - 19s 45ms/step - loss: 0.1234 - accuracy: 0.9670 - val_loss: 2.2362 - val_accuracy: 0.5223\n",
      "Epoch 73/100\n",
      "429/429 [==============================] - 20s 46ms/step - loss: 0.1294 - accuracy: 0.9658 - val_loss: 2.2812 - val_accuracy: 0.5340\n",
      "Epoch 74/100\n",
      "429/429 [==============================] - 19s 45ms/step - loss: 0.1187 - accuracy: 0.9691 - val_loss: 2.1900 - val_accuracy: 0.5346\n",
      "Epoch 75/100\n",
      "429/429 [==============================] - 19s 45ms/step - loss: 0.1342 - accuracy: 0.9664 - val_loss: 2.0547 - val_accuracy: 0.5182\n",
      "Epoch 76/100\n",
      "429/429 [==============================] - 19s 45ms/step - loss: 0.1107 - accuracy: 0.9703 - val_loss: 2.1695 - val_accuracy: 0.5276\n",
      "Epoch 77/100\n",
      "429/429 [==============================] - 19s 45ms/step - loss: 0.1057 - accuracy: 0.9721 - val_loss: 2.5087 - val_accuracy: 0.5150\n",
      "Epoch 78/100\n",
      "429/429 [==============================] - 20s 46ms/step - loss: 0.0995 - accuracy: 0.9713 - val_loss: 2.4710 - val_accuracy: 0.5320\n",
      "Epoch 79/100\n",
      "429/429 [==============================] - 20s 46ms/step - loss: 0.1080 - accuracy: 0.9713 - val_loss: 2.4156 - val_accuracy: 0.5124\n",
      "Epoch 80/100\n",
      "429/429 [==============================] - 19s 45ms/step - loss: 0.1108 - accuracy: 0.9712 - val_loss: 2.3592 - val_accuracy: 0.5252\n",
      "Epoch 81/100\n",
      "429/429 [==============================] - 19s 45ms/step - loss: 0.1054 - accuracy: 0.9722 - val_loss: 2.2907 - val_accuracy: 0.5139\n",
      "Epoch 82/100\n",
      "429/429 [==============================] - 19s 45ms/step - loss: 0.1099 - accuracy: 0.9702 - val_loss: 2.2531 - val_accuracy: 0.5290\n",
      "Epoch 83/100\n",
      "429/429 [==============================] - 19s 45ms/step - loss: 0.1110 - accuracy: 0.9684 - val_loss: 2.4002 - val_accuracy: 0.5229\n",
      "Epoch 84/100\n",
      "429/429 [==============================] - 19s 45ms/step - loss: 0.0976 - accuracy: 0.9726 - val_loss: 2.4676 - val_accuracy: 0.5168\n",
      "Epoch 85/100\n",
      "429/429 [==============================] - 19s 45ms/step - loss: 0.0934 - accuracy: 0.9739 - val_loss: 2.6789 - val_accuracy: 0.5220\n",
      "Epoch 86/100\n",
      "429/429 [==============================] - 19s 45ms/step - loss: 0.1010 - accuracy: 0.9715 - val_loss: 2.5147 - val_accuracy: 0.5168\n",
      "Epoch 87/100\n",
      "429/429 [==============================] - 19s 45ms/step - loss: 0.0835 - accuracy: 0.9744 - val_loss: 2.3159 - val_accuracy: 0.5144\n",
      "Epoch 88/100\n",
      "429/429 [==============================] - 19s 45ms/step - loss: 0.0930 - accuracy: 0.9741 - val_loss: 2.6461 - val_accuracy: 0.5296\n",
      "Epoch 89/100\n",
      "429/429 [==============================] - 19s 45ms/step - loss: 0.0995 - accuracy: 0.9715 - val_loss: 2.4798 - val_accuracy: 0.5340\n",
      "Epoch 90/100\n",
      "429/429 [==============================] - 20s 46ms/step - loss: 0.1108 - accuracy: 0.9688 - val_loss: 2.1742 - val_accuracy: 0.5352\n",
      "Epoch 91/100\n",
      "429/429 [==============================] - 19s 45ms/step - loss: 0.0918 - accuracy: 0.9736 - val_loss: 2.4744 - val_accuracy: 0.5235\n",
      "Epoch 92/100\n",
      "429/429 [==============================] - 19s 45ms/step - loss: 0.1791 - accuracy: 0.9440 - val_loss: 2.1792 - val_accuracy: 0.5124\n",
      "Epoch 93/100\n",
      "429/429 [==============================] - 19s 45ms/step - loss: 0.0915 - accuracy: 0.9726 - val_loss: 2.8471 - val_accuracy: 0.5177\n",
      "Epoch 94/100\n",
      "429/429 [==============================] - 19s 45ms/step - loss: 0.0836 - accuracy: 0.9747 - val_loss: 2.7563 - val_accuracy: 0.5276\n",
      "Epoch 95/100\n",
      "429/429 [==============================] - 19s 45ms/step - loss: 0.0805 - accuracy: 0.9764 - val_loss: 2.6745 - val_accuracy: 0.5089\n",
      "Epoch 96/100\n",
      "429/429 [==============================] - 20s 46ms/step - loss: 0.0762 - accuracy: 0.9768 - val_loss: 2.9398 - val_accuracy: 0.5022\n",
      "Epoch 97/100\n",
      "429/429 [==============================] - 19s 45ms/step - loss: 0.0787 - accuracy: 0.9777 - val_loss: 2.7490 - val_accuracy: 0.5179\n",
      "Epoch 98/100\n",
      "429/429 [==============================] - 20s 45ms/step - loss: 0.0772 - accuracy: 0.9764 - val_loss: 2.8097 - val_accuracy: 0.5188\n",
      "Epoch 99/100\n",
      "429/429 [==============================] - 19s 45ms/step - loss: 0.0809 - accuracy: 0.9760 - val_loss: 2.5355 - val_accuracy: 0.5322\n",
      "Epoch 100/100\n",
      "429/429 [==============================] - 19s 45ms/step - loss: 0.1001 - accuracy: 0.9718 - val_loss: 2.6856 - val_accuracy: 0.5343\n"
     ]
    },
    {
     "data": {
      "text/plain": [
       "<keras.src.callbacks.History at 0x74fed02e2c80>"
      ]
     },
     "execution_count": 52,
     "metadata": {},
     "output_type": "execute_result"
    }
   ],
   "source": [
    "model.fit([txt_train, X_train], y_train, epochs=100, validation_data=([txt_test,X_test], y_test), callbacks=[cp])"
   ]
  },
  {
   "cell_type": "code",
   "execution_count": 55,
   "id": "7f6781f1-7a15-4751-aaef-846f8ca488c9",
   "metadata": {},
   "outputs": [
    {
     "data": {
      "image/png": "[encoded data removed]",
      "text/plain": [
       "<Figure size 640x480 with 1 Axes>"
      ]
     },
     "metadata": {},
     "output_type": "display_data"
    }
   ],
   "source": [
    "h = model.history\n",
    "history_df = pd.DataFrame(h.history).plot(title=\"Model Saved on 11th epoch\")"
   ]
  },
  {
   "cell_type": "code",
   "execution_count": null,
   "id": "8d056bb7-aec9-4a63-886f-1fb5bd541969",
   "metadata": {},
   "outputs": [],
   "source": [
    "## REMEMBER\n",
    "# SAve tokenizer\n",
    "# save minmaxscaler\n",
    "# save model"
   ]
  }
 ],
 "metadata": {
  "kernelspec": {
   "display_name": "Python 3 (ipykernel)",
   "language": "python",
   "name": "python3"
  },
  "language_info": {
   "codemirror_mode": {
    "name": "ipython",
    "version": 3
   },
   "file_extension": ".py",
   "mimetype": "text/x-python",
   "name": "python",
   "nbconvert_exporter": "python",
   "pygments_lexer": "ipython3",
   "version": "3.10.12"
  }
 },
 "nbformat": 4,
 "nbformat_minor": 5
}
